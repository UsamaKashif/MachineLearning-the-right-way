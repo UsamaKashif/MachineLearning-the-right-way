{
 "cells": [
  {
   "cell_type": "markdown",
   "metadata": {},
   "source": [
    "# Logistic Regression without any libraries\n",
    "The problem is a binary classification task where the objective is to predict whether a police call is likely or not for the Pizza Shop. Not using any machine learning libraries. Will be using Numpy and Pandas for data manipulation and matplotlib for visualization."
   ]
  },
  {
   "cell_type": "markdown",
   "metadata": {},
   "source": [
    "The dataset represents information collected from a Pizza Shop in neighborhood. Each row in the dataset corresponds to a specific instance or observation, and the columns represent different features or variables. Here's an explanation of each column:\n",
    "\n",
    "- Reservations: The number of reservations made at the pizzeria.\n",
    "- Temperature: The temperature, possibly in degrees Celsius or Fahrenheit, on a given day.\n",
    "- Tourists: The level of tourist activity, which could be a count or a measure of how busy the area is with tourists.\n",
    "- Police: The target variable indicating whether a police call was made (1) or not (0) on a particular day.\n",
    "\n",
    "Each row provides a set of values for these features, and the goal is to use this data to predict whether the presence of certain factors (Reservations, Temperature, Tourists) is likely to lead to a police call at the pizzeria (Police = 1)."
   ]
  },
  {
   "cell_type": "markdown",
   "metadata": {},
   "source": [
    "## Loading the Data"
   ]
  },
  {
   "cell_type": "code",
   "execution_count": 1,
   "metadata": {},
   "outputs": [],
   "source": [
    "# Load libraries\n",
    "import numpy as np\n",
    "import pandas as pd\n",
    "import matplotlib.pyplot as plt"
   ]
  },
  {
   "cell_type": "code",
   "execution_count": 2,
   "metadata": {},
   "outputs": [
    {
     "data": {
      "text/html": [
       "<div>\n",
       "<style scoped>\n",
       "    .dataframe tbody tr th:only-of-type {\n",
       "        vertical-align: middle;\n",
       "    }\n",
       "\n",
       "    .dataframe tbody tr th {\n",
       "        vertical-align: top;\n",
       "    }\n",
       "\n",
       "    .dataframe thead th {\n",
       "        text-align: right;\n",
       "    }\n",
       "</style>\n",
       "<table border=\"1\" class=\"dataframe\">\n",
       "  <thead>\n",
       "    <tr style=\"text-align: right;\">\n",
       "      <th></th>\n",
       "      <th>Reservations</th>\n",
       "      <th>Temperature</th>\n",
       "      <th>Tourists</th>\n",
       "      <th>Police</th>\n",
       "    </tr>\n",
       "  </thead>\n",
       "  <tbody>\n",
       "    <tr>\n",
       "      <th>0</th>\n",
       "      <td>13</td>\n",
       "      <td>26</td>\n",
       "      <td>9</td>\n",
       "      <td>1</td>\n",
       "    </tr>\n",
       "    <tr>\n",
       "      <th>1</th>\n",
       "      <td>2</td>\n",
       "      <td>14</td>\n",
       "      <td>6</td>\n",
       "      <td>0</td>\n",
       "    </tr>\n",
       "    <tr>\n",
       "      <th>2</th>\n",
       "      <td>14</td>\n",
       "      <td>20</td>\n",
       "      <td>3</td>\n",
       "      <td>1</td>\n",
       "    </tr>\n",
       "    <tr>\n",
       "      <th>3</th>\n",
       "      <td>23</td>\n",
       "      <td>25</td>\n",
       "      <td>9</td>\n",
       "      <td>1</td>\n",
       "    </tr>\n",
       "    <tr>\n",
       "      <th>4</th>\n",
       "      <td>13</td>\n",
       "      <td>24</td>\n",
       "      <td>8</td>\n",
       "      <td>1</td>\n",
       "    </tr>\n",
       "  </tbody>\n",
       "</table>\n",
       "</div>"
      ],
      "text/plain": [
       "   Reservations  Temperature  Tourists  Police\n",
       "0            13           26         9       1\n",
       "1             2           14         6       0\n",
       "2            14           20         3       1\n",
       "3            23           25         9       1\n",
       "4            13           24         8       1"
      ]
     },
     "execution_count": 2,
     "metadata": {},
     "output_type": "execute_result"
    }
   ],
   "source": [
    "dataframe = pd.read_csv(\"police.csv\")\n",
    "dataframe.head(5)"
   ]
  },
  {
   "cell_type": "markdown",
   "metadata": {},
   "source": [
    "## Where Linear Regression Fails\n",
    "Linear Regression is all about approximating data with a line. It works well when the data is linearly separable. But when the data is not linearly separable, it fails to give good results. In such cases, we use Logistic Regression. Logistic Regression is a classification algorithm. It is used to predict a binary outcome (1 / 0, Yes / No, True / False) given a set of independent variables."
   ]
  },
  {
   "cell_type": "markdown",
   "metadata": {},
   "source": [
    "## Intro to Logistic Regression\n",
    "Logistic Regression is a statistical method for analyzing a dataset in which there are one or more independent variables that determine an outcome. The outcome is measured with a dichotomous variable (in which there are only two possible outcomes). In logistic regression, the dependent variable is binary or dichotomous, i.e. it only contains data coded as 1 (TRUE, success, pregnant, etc.) or 0 (FALSE, failure, non-pregnant, etc.).\n",
    "\n",
    "The logistic regression model is a linear model for binary classification. It models the probability that an observation belongs to a category. If the probability is greater than 0.5, the model predicts that the observation belongs to that category. If the probability is less than 0.5, the model predicts that the observation does not belong to that category."
   ]
  },
  {
   "cell_type": "markdown",
   "metadata": {},
   "source": [
    "![alt text](files/pizza_data.png)\n",
    "\n",
    "This is a classification problem because we want to classify data as either 0 or 1.\n",
    "To make our life easier let’s ignore the Temperature and Tourists columns for now, and plot the Reservations column against the label.\n",
    "\n",
    "![alt text](files/plot_res_label.png)\n",
    "\n",
    "Not only is linear regression a bad approximation for categorical data, it is also an unstable approximation.\n",
    "\n",
    "Even though linear regression is not a natural fit for binary classification, that  does not mean that we have to scrap our linear regression code and start from scratch. Instead, we can adapt our existing algorithm to this new problem using a technique called **Logistic Regression.**"
   ]
  },
  {
   "cell_type": "markdown",
   "metadata": {},
   "source": [
    "## Overview of Sigmoids\n",
    "\n",
    "In Linear Regression, $\\hat{y}$ could take any value. Binary Classification, however, imposes a tighter restriction on the output. The output must be between 0 and 1. To achieve this, we use the sigmoid function.\n",
    "\n",
    "### The wrapper function\n",
    "\n",
    "The wrapper function takes any number out of the weighted sum, and squashes it between 0 and 1. \n",
    "The other requirement is that the function should work with gradient descent.\n",
    "For the sake of gradient descent, the wrapper function should be smooth, without flat areas or gaps.\n",
    "\n",
    "The sigmoid function is a good choice for this. It is defined as:\n",
    "\n",
    "$$\\sigma(z) = \\frac{1}{1 + e^{-z}}$$\n",
    "\n",
    "Where z is the weighted sum of the inputs."
   ]
  },
  {
   "cell_type": "code",
   "execution_count": 3,
   "metadata": {},
   "outputs": [],
   "source": [
    "def sigmoid (z):\n",
    "    return 1 / (1 + np.exp(-z))"
   ]
  },
  {
   "cell_type": "markdown",
   "metadata": {},
   "source": [
    "Modifying the predict function to pass the result ot sigmoid function.\n",
    "Process of moving data through the sigmoid function is called **forward propagation**, so renaming the predict function to forward."
   ]
  },
  {
   "cell_type": "code",
   "execution_count": 4,
   "metadata": {},
   "outputs": [],
   "source": [
    "def forward(X, w):\n",
    "  weighted_sum = np.matmul(X, w) \n",
    "  return sigmoid(weighted_sum)"
   ]
  },
  {
   "cell_type": "markdown",
   "metadata": {},
   "source": [
    "The labels that we use to train the classifier are either 0 or 1, so the classification should also be a straight 0 or 1. To get that unambiguous answer, during the classification phase, we can round the result to the nearest integer."
   ]
  },
  {
   "cell_type": "code",
   "execution_count": 5,
   "metadata": {},
   "outputs": [],
   "source": [
    "def classify(X, w):\n",
    "  return np.round(forward(X, w))"
   ]
  },
  {
   "cell_type": "markdown",
   "metadata": {},
   "source": [
    "## Smoothing it Out\n",
    "\n",
    "We introduced a subtle problem by adding the sigmoid to out program. We made gradient descent less reliable. The problem happens when we update the loss() function in our system to use the new classification code.\n",
    "We introduced a subtle problem by adding the sigmoid to out program. We made gradient descent less reliable. The problem happens when we update the loss() function in our system to use the new classification code.\n",
    "\n",
    "![alt text](files/loss_mse.png)\n",
    "\n",
    "If we use the mean squared error and sigmoid together, the resulting loss has an uneven surface littered with local minima. This makes gradient descent less reliable.\n",
    "\n",
    "The solution is to use a different loss function. The loss function should be smooth and have a slope that is easy to work with. The loss function that fits these criteria is called the **Log Loss**.\n",
    "It is based on logarithms and is defined as:\n",
    "\n",
    "$$L(y, \\hat{y}) = -\\frac{1}{m} \\sum_{i=1}^{m} (y_{i}.log(\\hat{y}_{i}) + (1-y_{i}) . log(1-\\hat{y}_{i}) ) $$\n",
    "\n",
    "Where y is the label and $\\hat{y}$ is the prediction.\n",
    "\n",
    "![alt text](files/updated_loss.png)"
   ]
  },
  {
   "cell_type": "code",
   "execution_count": 6,
   "metadata": {},
   "outputs": [],
   "source": [
    "def loss(X, Y, w):\n",
    "    y_hat = forward(X, w)\n",
    "    first_term = Y * np.log(y_hat)\n",
    "    second_term = (1 - Y) * np.log(1 - y_hat) \n",
    "    return -np.average(first_term + second_term)"
   ]
  },
  {
   "cell_type": "markdown",
   "metadata": {},
   "source": [
    "## Updating the Loss Function\n",
    "\n",
    "The loss function is the most important part of the classifier. It tells us how well the classifier is doing. The loss function is a measure of how well the classifier is doing. The goal of the classifier is to minimize the loss function.\n",
    "\n",
    "THe partial derivative of the log loss with respect to the weights is:\n",
    "\n",
    "$$\\frac{\\partial L}{\\partial w} = \\frac{1}{m} \\sum_{i=1}^{m} ( \\hat{y}_{i} - y_{i} ) . x_{i}$$"
   ]
  },
  {
   "cell_type": "code",
   "execution_count": 7,
   "metadata": {},
   "outputs": [],
   "source": [
    "def gradient(X, Y, w):\n",
    "    return np.matmul(X.T, (forward(X, w) - Y)) / X.shape[0]"
   ]
  },
  {
   "cell_type": "markdown",
   "metadata": {},
   "source": [
    "## Preparing the Data"
   ]
  },
  {
   "cell_type": "code",
   "execution_count": 13,
   "metadata": {},
   "outputs": [],
   "source": [
    "# Separate features (X) and target variable (y) for training set\n",
    "X = dataframe.drop(\"Police\", axis=1)\n",
    "X = X.to_numpy()\n",
    "x1, x2, x3 = X.T\n",
    "X = np.column_stack((np.ones(x1.size), x1, x2, x3))\n",
    "\n",
    "y = dataframe[\"Police\"]\n",
    "y = y.to_numpy().reshape(-1, 1)"
   ]
  },
  {
   "cell_type": "markdown",
   "metadata": {},
   "source": [
    "## Training and Testing"
   ]
  },
  {
   "cell_type": "code",
   "execution_count": 14,
   "metadata": {},
   "outputs": [],
   "source": [
    "def train(X, Y, iterations, lr):\n",
    "    w = np.zeros((X.shape[1], 1))\n",
    "    for i in range(iterations):\n",
    "        if (i%2000==0 or i==9999):\n",
    "            print(\"Iteration %4d => Loss: %.20f\" % (i, loss(X, Y, w)))\n",
    "        w -= gradient(X, Y, w) * lr\n",
    "    return w\n",
    "\n",
    "# Doing inference to test our model\n",
    "def test(X, Y, w):\n",
    "    total_examples = X.shape[0]\n",
    "    correct_results = np.sum(classify(X, w) == Y)\n",
    "    success_percent = correct_results * 100 / total_examples\n",
    "    print(\"\\nSuccess: %d/%d (%.2f%%)\" %\n",
    "          (correct_results, total_examples, success_percent))"
   ]
  },
  {
   "cell_type": "code",
   "execution_count": 15,
   "metadata": {},
   "outputs": [
    {
     "name": "stdout",
     "output_type": "stream",
     "text": [
      "Iteration    0 => Loss: 0.69314718055994517520\n",
      "Iteration 2000 => Loss: 0.37706099247397129037\n",
      "Iteration 4000 => Loss: 0.36771744812662249258\n",
      "Iteration 6000 => Loss: 0.36435486891522744779\n",
      "Iteration 8000 => Loss: 0.36203803321379474101\n",
      "Iteration 9999 => Loss: 0.35997223795473720642\n",
      "\n",
      "Success: 30/34 (88.24%)\n"
     ]
    }
   ],
   "source": [
    "w = train(X, y, iterations=10000, lr=0.001)\n",
    "\n",
    "# Test it\n",
    "test(X, y, w)"
   ]
  }
 ],
 "metadata": {
  "kernelspec": {
   "display_name": "env",
   "language": "python",
   "name": "python3"
  },
  "language_info": {
   "codemirror_mode": {
    "name": "ipython",
    "version": 3
   },
   "file_extension": ".py",
   "mimetype": "text/x-python",
   "name": "python",
   "nbconvert_exporter": "python",
   "pygments_lexer": "ipython3",
   "version": "3.11.0"
  }
 },
 "nbformat": 4,
 "nbformat_minor": 2
}
